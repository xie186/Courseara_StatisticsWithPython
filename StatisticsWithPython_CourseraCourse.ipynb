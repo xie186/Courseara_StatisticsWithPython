{
  "nbformat": 4,
  "nbformat_minor": 0,
  "metadata": {
    "colab": {
      "name": "StatisticsWithPython_CourseraCourse.ipynb",
      "version": "0.3.2",
      "provenance": [],
      "toc_visible": true,
      "include_colab_link": true
    },
    "kernelspec": {
      "name": "python3",
      "display_name": "Python 3"
    }
  },
  "cells": [
    {
      "cell_type": "markdown",
      "metadata": {
        "id": "view-in-github",
        "colab_type": "text"
      },
      "source": [
        "<a href=\"https://colab.research.google.com/github/xie186/Coursera_StatisticsWithPython/blob/master/StatisticsWithPython_CourseraCourse.ipynb\" target=\"_parent\"><img src=\"https://colab.research.google.com/assets/colab-badge.svg\" alt=\"Open In Colab\"/></a>"
      ]
    },
    {
      "cell_type": "code",
      "metadata": {
        "colab_type": "code",
        "id": "KHGGJA0IPA04",
        "colab": {}
      },
      "source": [
        ""
      ],
      "execution_count": 0,
      "outputs": []
    },
    {
      "cell_type": "code",
      "metadata": {
        "colab_type": "code",
        "id": "kDpybtbDO_O4",
        "colab": {}
      },
      "source": [
        ""
      ],
      "execution_count": 0,
      "outputs": []
    },
    {
      "cell_type": "markdown",
      "metadata": {
        "id": "C9ta-qWH3vnX",
        "colab_type": "text"
      },
      "source": [
        "# Understanding and Visualizing Data with Python"
      ]
    },
    {
      "cell_type": "markdown",
      "metadata": {
        "id": "109CZcKJ33Q8",
        "colab_type": "text"
      },
      "source": [
        "## UNIVARIATE DATA"
      ]
    },
    {
      "cell_type": "markdown",
      "metadata": {
        "id": "M9YFQ3o656eb",
        "colab_type": "text"
      },
      "source": [
        "### Quantitative data: Histograms"
      ]
    },
    {
      "cell_type": "markdown",
      "metadata": {
        "id": "RkHkcU2p37T7",
        "colab_type": "text"
      },
      "source": [
        "#### Quantititave data\n",
        "\n",
        "\n",
        "* What are quantitiative variables\n",
        "\n",
        "\n",
        "Variables that have a numerical value (quantity) thant we can perform mathematical operations on. \n",
        "\n",
        "__Examples__: \n",
        "\n",
        "* Continuous values: Height, weight, income, test scores, shoes size, \n",
        "\n",
        "* Discrete: number of \"heads\" after 10 coin flips\n",
        "\n",
        "![](https://user-images.githubusercontent.com/20909751/56850116-e91aac80-68cb-11e9-9ea0-ea1612b9f5fd.png)"
      ]
    },
    {
      "cell_type": "markdown",
      "metadata": {
        "id": "1-rMGHoI6U7J",
        "colab_type": "text"
      },
      "source": [
        "### Four main aspects of Histogram\n",
        "\n",
        "* __Shape__: Overall appearance of historgram\n",
        "\n",
        "* __Center__: Mean or Median\n",
        "\n",
        "* __Spead__: How far our data speads. Range, Interquartile Range (IQR), standard deviation, variance.\n",
        "\n",
        "\n",
        "* __Ourliers__: Data points that fall far from the bulk of the data\n"
      ]
    },
    {
      "cell_type": "markdown",
      "metadata": {
        "id": "6sfLwiaC4h3b",
        "colab_type": "text"
      },
      "source": [
        "## MULTIVARIATE DATA"
      ]
    },
    {
      "cell_type": "markdown",
      "metadata": {
        "id": "KimyIYTh4qK6",
        "colab_type": "text"
      },
      "source": [
        "In the third week of this course on looking at data, we’ll introduce key ideas for examining research questions that require looking at more than one variable. In particular, we will consider both numerically and visually how different variables interact, how summaries can appear deceiving if you don’t properly account for interactions, and differences between quantitative and categorical variables. This week’s assignment will consist of a writing assignment along with reviewing those of your peers.\n",
        "\n"
      ]
    },
    {
      "cell_type": "markdown",
      "metadata": {
        "id": "GueRXqiYkLyi",
        "colab_type": "text"
      },
      "source": [
        "*italicized text ![alt text](https://)*### Simpons paradox\n",
        "\n",
        "Simpson's paradox  is a phenomenon in probability and statistics, in which a trend appears in several different groups of data but disappears or reverses when these groups are combined."
      ]
    },
    {
      "cell_type": "markdown",
      "metadata": {
        "id": "A7oKCDdikQdk",
        "colab_type": "text"
      },
      "source": [
        "*italicized text*#### Example: UC Berkeley gender bias\n",
        "\n",
        "One of the best-known examples of Simpson's paradox is a study of gender bias among graduate school admissions to University of California, Berkeley. The admission figures for the fall of 1973 showed that men applying were more likely than women to be admitted, and the difference was so large that it was unlikely to be due to chance.\n"
      ]
    },
    {
      "cell_type": "code",
      "metadata": {
        "id": "AD7fEpFokSpe",
        "colab_type": "code",
        "outputId": "ad4d4218-7120-4ec7-9a41-c89d82a293a0",
        "colab": {
          "base_uri": "https://localhost:8080/",
          "height": 785
        }
      },
      "source": [
        "import pandas as pd\n",
        "file = 'https://raw.githubusercontent.com/xie186/Coursera_StatisticsWithPython/master/data/UCBGradAdmData1973.csv'\n",
        "df = pd.DataFrame(pd.read_csv(file))\n",
        "df"
      ],
      "execution_count": 0,
      "outputs": [
        {
          "output_type": "execute_result",
          "data": {
            "text/html": [
              "<div>\n",
              "<style scoped>\n",
              "    .dataframe tbody tr th:only-of-type {\n",
              "        vertical-align: middle;\n",
              "    }\n",
              "\n",
              "    .dataframe tbody tr th {\n",
              "        vertical-align: top;\n",
              "    }\n",
              "\n",
              "    .dataframe thead th {\n",
              "        text-align: right;\n",
              "    }\n",
              "</style>\n",
              "<table border=\"1\" class=\"dataframe\">\n",
              "  <thead>\n",
              "    <tr style=\"text-align: right;\">\n",
              "      <th></th>\n",
              "      <th>Admit</th>\n",
              "      <th>Gender</th>\n",
              "      <th>Dept</th>\n",
              "      <th>Freq</th>\n",
              "    </tr>\n",
              "  </thead>\n",
              "  <tbody>\n",
              "    <tr>\n",
              "      <th>0</th>\n",
              "      <td>Admitted</td>\n",
              "      <td>Male</td>\n",
              "      <td>A</td>\n",
              "      <td>512</td>\n",
              "    </tr>\n",
              "    <tr>\n",
              "      <th>1</th>\n",
              "      <td>Rejected</td>\n",
              "      <td>Male</td>\n",
              "      <td>A</td>\n",
              "      <td>313</td>\n",
              "    </tr>\n",
              "    <tr>\n",
              "      <th>2</th>\n",
              "      <td>Admitted</td>\n",
              "      <td>Female</td>\n",
              "      <td>A</td>\n",
              "      <td>89</td>\n",
              "    </tr>\n",
              "    <tr>\n",
              "      <th>3</th>\n",
              "      <td>Rejected</td>\n",
              "      <td>Female</td>\n",
              "      <td>A</td>\n",
              "      <td>19</td>\n",
              "    </tr>\n",
              "    <tr>\n",
              "      <th>4</th>\n",
              "      <td>Admitted</td>\n",
              "      <td>Male</td>\n",
              "      <td>B</td>\n",
              "      <td>353</td>\n",
              "    </tr>\n",
              "    <tr>\n",
              "      <th>5</th>\n",
              "      <td>Rejected</td>\n",
              "      <td>Male</td>\n",
              "      <td>B</td>\n",
              "      <td>207</td>\n",
              "    </tr>\n",
              "    <tr>\n",
              "      <th>6</th>\n",
              "      <td>Admitted</td>\n",
              "      <td>Female</td>\n",
              "      <td>B</td>\n",
              "      <td>17</td>\n",
              "    </tr>\n",
              "    <tr>\n",
              "      <th>7</th>\n",
              "      <td>Rejected</td>\n",
              "      <td>Female</td>\n",
              "      <td>B</td>\n",
              "      <td>8</td>\n",
              "    </tr>\n",
              "    <tr>\n",
              "      <th>8</th>\n",
              "      <td>Admitted</td>\n",
              "      <td>Male</td>\n",
              "      <td>C</td>\n",
              "      <td>120</td>\n",
              "    </tr>\n",
              "    <tr>\n",
              "      <th>9</th>\n",
              "      <td>Rejected</td>\n",
              "      <td>Male</td>\n",
              "      <td>C</td>\n",
              "      <td>205</td>\n",
              "    </tr>\n",
              "    <tr>\n",
              "      <th>10</th>\n",
              "      <td>Admitted</td>\n",
              "      <td>Female</td>\n",
              "      <td>C</td>\n",
              "      <td>202</td>\n",
              "    </tr>\n",
              "    <tr>\n",
              "      <th>11</th>\n",
              "      <td>Rejected</td>\n",
              "      <td>Female</td>\n",
              "      <td>C</td>\n",
              "      <td>391</td>\n",
              "    </tr>\n",
              "    <tr>\n",
              "      <th>12</th>\n",
              "      <td>Admitted</td>\n",
              "      <td>Male</td>\n",
              "      <td>D</td>\n",
              "      <td>138</td>\n",
              "    </tr>\n",
              "    <tr>\n",
              "      <th>13</th>\n",
              "      <td>Rejected</td>\n",
              "      <td>Male</td>\n",
              "      <td>D</td>\n",
              "      <td>279</td>\n",
              "    </tr>\n",
              "    <tr>\n",
              "      <th>14</th>\n",
              "      <td>Admitted</td>\n",
              "      <td>Female</td>\n",
              "      <td>D</td>\n",
              "      <td>131</td>\n",
              "    </tr>\n",
              "    <tr>\n",
              "      <th>15</th>\n",
              "      <td>Rejected</td>\n",
              "      <td>Female</td>\n",
              "      <td>D</td>\n",
              "      <td>244</td>\n",
              "    </tr>\n",
              "    <tr>\n",
              "      <th>16</th>\n",
              "      <td>Admitted</td>\n",
              "      <td>Male</td>\n",
              "      <td>E</td>\n",
              "      <td>53</td>\n",
              "    </tr>\n",
              "    <tr>\n",
              "      <th>17</th>\n",
              "      <td>Rejected</td>\n",
              "      <td>Male</td>\n",
              "      <td>E</td>\n",
              "      <td>138</td>\n",
              "    </tr>\n",
              "    <tr>\n",
              "      <th>18</th>\n",
              "      <td>Admitted</td>\n",
              "      <td>Female</td>\n",
              "      <td>E</td>\n",
              "      <td>94</td>\n",
              "    </tr>\n",
              "    <tr>\n",
              "      <th>19</th>\n",
              "      <td>Rejected</td>\n",
              "      <td>Female</td>\n",
              "      <td>E</td>\n",
              "      <td>299</td>\n",
              "    </tr>\n",
              "    <tr>\n",
              "      <th>20</th>\n",
              "      <td>Admitted</td>\n",
              "      <td>Male</td>\n",
              "      <td>F</td>\n",
              "      <td>22</td>\n",
              "    </tr>\n",
              "    <tr>\n",
              "      <th>21</th>\n",
              "      <td>Rejected</td>\n",
              "      <td>Male</td>\n",
              "      <td>F</td>\n",
              "      <td>351</td>\n",
              "    </tr>\n",
              "    <tr>\n",
              "      <th>22</th>\n",
              "      <td>Admitted</td>\n",
              "      <td>Female</td>\n",
              "      <td>F</td>\n",
              "      <td>24</td>\n",
              "    </tr>\n",
              "    <tr>\n",
              "      <th>23</th>\n",
              "      <td>Rejected</td>\n",
              "      <td>Female</td>\n",
              "      <td>F</td>\n",
              "      <td>317</td>\n",
              "    </tr>\n",
              "  </tbody>\n",
              "</table>\n",
              "</div>"
            ],
            "text/plain": [
              "       Admit  Gender Dept  Freq\n",
              "0   Admitted    Male    A   512\n",
              "1   Rejected    Male    A   313\n",
              "2   Admitted  Female    A    89\n",
              "3   Rejected  Female    A    19\n",
              "4   Admitted    Male    B   353\n",
              "5   Rejected    Male    B   207\n",
              "6   Admitted  Female    B    17\n",
              "7   Rejected  Female    B     8\n",
              "8   Admitted    Male    C   120\n",
              "9   Rejected    Male    C   205\n",
              "10  Admitted  Female    C   202\n",
              "11  Rejected  Female    C   391\n",
              "12  Admitted    Male    D   138\n",
              "13  Rejected    Male    D   279\n",
              "14  Admitted  Female    D   131\n",
              "15  Rejected  Female    D   244\n",
              "16  Admitted    Male    E    53\n",
              "17  Rejected    Male    E   138\n",
              "18  Admitted  Female    E    94\n",
              "19  Rejected  Female    E   299\n",
              "20  Admitted    Male    F    22\n",
              "21  Rejected    Male    F   351\n",
              "22  Admitted  Female    F    24\n",
              "23  Rejected  Female    F   317"
            ]
          },
          "metadata": {
            "tags": []
          },
          "execution_count": 9
        }
      ]
    },
    {
      "cell_type": "markdown",
      "metadata": {
        "id": "ixC8Ao8Hq_R6",
        "colab_type": "text"
      },
      "source": [
        "##### Gender bias \n",
        "\n",
        "The admission figures for the fall of 1973 showed that men applying were more likely than women to be admitted, and the difference was so large that it was unlikely to be due to chance."
      ]
    },
    {
      "cell_type": "code",
      "metadata": {
        "id": "zClY4NOJq-xg",
        "colab_type": "code",
        "outputId": "a07130a9-43eb-4425-882b-9223ee8db002",
        "colab": {
          "base_uri": "https://localhost:8080/",
          "height": 141
        }
      },
      "source": [
        "import numpy as np\n",
        "df_sum = pd.pivot_table(df, values=\"Freq\", index=[\"Gender\"], \n",
        "                          columns=[\"Admit\"], aggfunc=np.sum)\n",
        "\n",
        "df_sum[\"%\"] = 100*df_sum[\"Admitted\"] / (df_sum[\"Admitted\"] + df_sum[\"Rejected\"])\n",
        "df_sum"
      ],
      "execution_count": 0,
      "outputs": [
        {
          "output_type": "execute_result",
          "data": {
            "text/html": [
              "<div>\n",
              "<style scoped>\n",
              "    .dataframe tbody tr th:only-of-type {\n",
              "        vertical-align: middle;\n",
              "    }\n",
              "\n",
              "    .dataframe tbody tr th {\n",
              "        vertical-align: top;\n",
              "    }\n",
              "\n",
              "    .dataframe thead th {\n",
              "        text-align: right;\n",
              "    }\n",
              "</style>\n",
              "<table border=\"1\" class=\"dataframe\">\n",
              "  <thead>\n",
              "    <tr style=\"text-align: right;\">\n",
              "      <th>Admit</th>\n",
              "      <th>Admitted</th>\n",
              "      <th>Rejected</th>\n",
              "      <th>%</th>\n",
              "    </tr>\n",
              "    <tr>\n",
              "      <th>Gender</th>\n",
              "      <th></th>\n",
              "      <th></th>\n",
              "      <th></th>\n",
              "    </tr>\n",
              "  </thead>\n",
              "  <tbody>\n",
              "    <tr>\n",
              "      <th>Female</th>\n",
              "      <td>557</td>\n",
              "      <td>1278</td>\n",
              "      <td>30.354223</td>\n",
              "    </tr>\n",
              "    <tr>\n",
              "      <th>Male</th>\n",
              "      <td>1198</td>\n",
              "      <td>1493</td>\n",
              "      <td>44.518766</td>\n",
              "    </tr>\n",
              "  </tbody>\n",
              "</table>\n",
              "</div>"
            ],
            "text/plain": [
              "Admit   Admitted  Rejected          %\n",
              "Gender                               \n",
              "Female       557      1278  30.354223\n",
              "Male        1198      1493  44.518766"
            ]
          },
          "metadata": {
            "tags": []
          },
          "execution_count": 3
        }
      ]
    },
    {
      "cell_type": "code",
      "metadata": {
        "id": "hAV_OVyHsjAy",
        "colab_type": "code",
        "outputId": "362bb6aa-06fa-49c4-8dd7-e0e9d185657b",
        "colab": {
          "base_uri": "https://localhost:8080/",
          "height": 327
        }
      },
      "source": [
        "df_sum[\"%\"].plot(kind=\"bar\", y=\"%\")"
      ],
      "execution_count": 0,
      "outputs": [
        {
          "output_type": "execute_result",
          "data": {
            "text/plain": [
              "<matplotlib.axes._subplots.AxesSubplot at 0x7f36f4600e48>"
            ]
          },
          "metadata": {
            "tags": []
          },
          "execution_count": 4
        },
        {
          "output_type": "display_data",
          "data": {
            "image/png": "[encoded data removed]",
            "text/plain": [
              "<Figure size 432x288 with 1 Axes>"
            ]
          },
          "metadata": {
            "tags": []
          }
        }
      ]
    },
    {
      "cell_type": "markdown",
      "metadata": {
        "id": "WVnoG4KvsCNr",
        "colab_type": "text"
      },
      "source": [
        "##### Department level summary\n",
        "\n",
        "When examining the individual departments, it appeared that six out of 85 departments were significantly biased against men, whereas only four were significantly biased against women. In fact, the pooled and corrected data showed a \"small but statistically significant bias in favor of women\".[15] The data from the six largest departments are listed below, the top two departments by number of applicants for each gender italicised."
      ]
    },
    {
      "cell_type": "code",
      "metadata": {
        "id": "0V-TSz2Lm-XC",
        "colab_type": "code",
        "outputId": "5e294d52-9516-4f2f-8942-a2cbc31ef092",
        "colab": {
          "base_uri": "https://localhost:8080/",
          "height": 294
        }
      },
      "source": [
        "df_pivot = df.pivot_table(values=\"Freq\", index=[\"Dept\"], \n",
        "                          columns=[\"Gender\", \"Admit\"])\n",
        "\n",
        "df_pivot[\"%(Female)\"] = 100*df_pivot[\"Female\"][\"Admitted\"]/(df_pivot[\"Female\"][\"Rejected\"] + df_pivot[\"Female\"][\"Admitted\"])\n",
        "df_pivot[\"%(Male)\"] = 100*df_pivot[\"Male\"][\"Admitted\"]/(df_pivot[\"Male\"][\"Rejected\"] + df_pivot[\"Male\"][\"Admitted\"])\n",
        "df_pivot\n"
      ],
      "execution_count": 0,
      "outputs": [
        {
          "output_type": "execute_result",
          "data": {
            "text/html": [
              "<div>\n",
              "<style scoped>\n",
              "    .dataframe tbody tr th:only-of-type {\n",
              "        vertical-align: middle;\n",
              "    }\n",
              "\n",
              "    .dataframe tbody tr th {\n",
              "        vertical-align: top;\n",
              "    }\n",
              "\n",
              "    .dataframe thead tr th {\n",
              "        text-align: left;\n",
              "    }\n",
              "\n",
              "    .dataframe thead tr:last-of-type th {\n",
              "        text-align: right;\n",
              "    }\n",
              "</style>\n",
              "<table border=\"1\" class=\"dataframe\">\n",
              "  <thead>\n",
              "    <tr>\n",
              "      <th>Gender</th>\n",
              "      <th colspan=\"2\" halign=\"left\">Female</th>\n",
              "      <th colspan=\"2\" halign=\"left\">Male</th>\n",
              "      <th>%(Female)</th>\n",
              "      <th>%(Male)</th>\n",
              "    </tr>\n",
              "    <tr>\n",
              "      <th>Admit</th>\n",
              "      <th>Admitted</th>\n",
              "      <th>Rejected</th>\n",
              "      <th>Admitted</th>\n",
              "      <th>Rejected</th>\n",
              "      <th></th>\n",
              "      <th></th>\n",
              "    </tr>\n",
              "    <tr>\n",
              "      <th>Dept</th>\n",
              "      <th></th>\n",
              "      <th></th>\n",
              "      <th></th>\n",
              "      <th></th>\n",
              "      <th></th>\n",
              "      <th></th>\n",
              "    </tr>\n",
              "  </thead>\n",
              "  <tbody>\n",
              "    <tr>\n",
              "      <th>A</th>\n",
              "      <td>89</td>\n",
              "      <td>19</td>\n",
              "      <td>512</td>\n",
              "      <td>313</td>\n",
              "      <td>82.407407</td>\n",
              "      <td>62.060606</td>\n",
              "    </tr>\n",
              "    <tr>\n",
              "      <th>B</th>\n",
              "      <td>17</td>\n",
              "      <td>8</td>\n",
              "      <td>353</td>\n",
              "      <td>207</td>\n",
              "      <td>68.000000</td>\n",
              "      <td>63.035714</td>\n",
              "    </tr>\n",
              "    <tr>\n",
              "      <th>C</th>\n",
              "      <td>202</td>\n",
              "      <td>391</td>\n",
              "      <td>120</td>\n",
              "      <td>205</td>\n",
              "      <td>34.064081</td>\n",
              "      <td>36.923077</td>\n",
              "    </tr>\n",
              "    <tr>\n",
              "      <th>D</th>\n",
              "      <td>131</td>\n",
              "      <td>244</td>\n",
              "      <td>138</td>\n",
              "      <td>279</td>\n",
              "      <td>34.933333</td>\n",
              "      <td>33.093525</td>\n",
              "    </tr>\n",
              "    <tr>\n",
              "      <th>E</th>\n",
              "      <td>94</td>\n",
              "      <td>299</td>\n",
              "      <td>53</td>\n",
              "      <td>138</td>\n",
              "      <td>23.918575</td>\n",
              "      <td>27.748691</td>\n",
              "    </tr>\n",
              "    <tr>\n",
              "      <th>F</th>\n",
              "      <td>24</td>\n",
              "      <td>317</td>\n",
              "      <td>22</td>\n",
              "      <td>351</td>\n",
              "      <td>7.038123</td>\n",
              "      <td>5.898123</td>\n",
              "    </tr>\n",
              "  </tbody>\n",
              "</table>\n",
              "</div>"
            ],
            "text/plain": [
              "Gender   Female              Male           %(Female)    %(Male)\n",
              "Admit  Admitted Rejected Admitted Rejected                      \n",
              "Dept                                                            \n",
              "A            89       19      512      313  82.407407  62.060606\n",
              "B            17        8      353      207  68.000000  63.035714\n",
              "C           202      391      120      205  34.064081  36.923077\n",
              "D           131      244      138      279  34.933333  33.093525\n",
              "E            94      299       53      138  23.918575  27.748691\n",
              "F            24      317       22      351   7.038123   5.898123"
            ]
          },
          "metadata": {
            "tags": []
          },
          "execution_count": 5
        }
      ]
    },
    {
      "cell_type": "code",
      "metadata": {
        "id": "H9Co9UuYtn4K",
        "colab_type": "code",
        "outputId": "524571ac-db02-45e9-c850-9e3cbf497154",
        "colab": {
          "base_uri": "https://localhost:8080/",
          "height": 368
        }
      },
      "source": [
        "df_perc = df_pivot[[\"%(Female)\",\t\"%(Male)\"]]\n",
        "print(df_perc.columns)\n",
        "df_perc.columns = ['%(Female)', '%(Male)']\n",
        "print(df_perc.columns)\n",
        "df_perc\n",
        "df_perc.plot(kind=\"bar\")"
      ],
      "execution_count": 0,
      "outputs": [
        {
          "output_type": "stream",
          "text": [
            "MultiIndex(levels=[['Female', 'Male', '%(Female)', '%(Male)'], ['Admitted', 'Rejected', '']],\n",
            "           codes=[[2, 3], [2, 2]],\n",
            "           names=['Gender', 'Admit'])\n",
            "Index(['%(Female)', '%(Male)'], dtype='object')\n"
          ],
          "name": "stdout"
        },
        {
          "output_type": "execute_result",
          "data": {
            "text/plain": [
              "<matplotlib.axes._subplots.AxesSubplot at 0x7f36f0a5c278>"
            ]
          },
          "metadata": {
            "tags": []
          },
          "execution_count": 6
        },
        {
          "output_type": "display_data",
          "data": {
            "image/png": "[encoded data removed]",
            "text/plain": [
              "<Figure size 432x288 with 1 Axes>"
            ]
          },
          "metadata": {
            "tags": []
          }
        }
      ]
    },
    {
      "cell_type": "markdown",
      "metadata": {
        "id": "que18vmPsRNP",
        "colab_type": "text"
      },
      "source": [
        "The research paper by Bickel et al. concluded that __women tended to apply to competitive departments with low rates of admission even among qualified applicants__ (such as in the English Department), whereas __men__ tended to apply to __less-competitive departments__ with high rates of admission among the qualified applicants (such as in engineering and chemistry)."
      ]
    },
    {
      "cell_type": "code",
      "metadata": {
        "id": "mZtWGZ0NqJj6",
        "colab_type": "code",
        "colab": {}
      },
      "source": [
        ""
      ],
      "execution_count": 0,
      "outputs": []
    },
    {
      "cell_type": "code",
      "metadata": {
        "id": "FChtp4RYlb1g",
        "colab_type": "code",
        "outputId": "2f5e4f75-c06e-4df0-a928-e31a6d898680",
        "colab": {
          "base_uri": "https://localhost:8080/",
          "height": 197
        }
      },
      "source": [
        "import numpy as np\n",
        "df = pd.DataFrame([[1, 2, 3],\n",
        "                    [4, 5, 6],\n",
        "                   [7, 8, 9],\n",
        "                    [np.nan, np.nan, np.nan]],\n",
        "                   columns=['A', 'B', 'C'])\n",
        "print(df)\n",
        "df.agg(['sum', 'min'])\n"
      ],
      "execution_count": 0,
      "outputs": [
        {
          "output_type": "stream",
          "text": [
            "     A    B    C\n",
            "0  1.0  2.0  3.0\n",
            "1  4.0  5.0  6.0\n",
            "2  7.0  8.0  9.0\n",
            "3  NaN  NaN  NaN\n"
          ],
          "name": "stdout"
        },
        {
          "output_type": "execute_result",
          "data": {
            "text/html": [
              "<div>\n",
              "<style scoped>\n",
              "    .dataframe tbody tr th:only-of-type {\n",
              "        vertical-align: middle;\n",
              "    }\n",
              "\n",
              "    .dataframe tbody tr th {\n",
              "        vertical-align: top;\n",
              "    }\n",
              "\n",
              "    .dataframe thead th {\n",
              "        text-align: right;\n",
              "    }\n",
              "</style>\n",
              "<table border=\"1\" class=\"dataframe\">\n",
              "  <thead>\n",
              "    <tr style=\"text-align: right;\">\n",
              "      <th></th>\n",
              "      <th>A</th>\n",
              "      <th>B</th>\n",
              "      <th>C</th>\n",
              "    </tr>\n",
              "  </thead>\n",
              "  <tbody>\n",
              "    <tr>\n",
              "      <th>sum</th>\n",
              "      <td>12.0</td>\n",
              "      <td>15.0</td>\n",
              "      <td>18.0</td>\n",
              "    </tr>\n",
              "    <tr>\n",
              "      <th>min</th>\n",
              "      <td>1.0</td>\n",
              "      <td>2.0</td>\n",
              "      <td>3.0</td>\n",
              "    </tr>\n",
              "  </tbody>\n",
              "</table>\n",
              "</div>"
            ],
            "text/plain": [
              "        A     B     C\n",
              "sum  12.0  15.0  18.0\n",
              "min   1.0   2.0   3.0"
            ]
          },
          "metadata": {
            "tags": []
          },
          "execution_count": 7
        }
      ]
    },
    {
      "cell_type": "markdown",
      "metadata": {
        "id": "PDNqK13pyIBH",
        "colab_type": "text"
      },
      "source": [
        "### Modern ways to visulize data\n",
        "\n",
        "While viewing them, think through:\n",
        "\n",
        "What about this visualization made it easy or hard to understand the data?\n",
        "Why do you think this visualization was used instead of other visualizations we discussed in the course?\n",
        "Could this visualization be used for other kinds of data?\n",
        "Want to see how selfies are taken across the world? Check out this website to see different categories of selfies in 5 different cities.\n",
        "\n",
        "Want to see how economic inequality has changed over time? Look at this article to see how a series of data visualizations are used to tell a story about the global economy.\n",
        "\n",
        "Check out this visualization of shot attempts of the Washington Wizards, an NBA team.\n",
        "\n",
        "Want to see how music popularity has changed over time? Check out this cool visualization. You can click different genres for a further breakdown.\n",
        "\n",
        "Want to know what ages certain people get married? Check out this interactive visualization that allows you to understand the marriage age of different groups of people.\n",
        "\n",
        "Want to know how different cities rank in terms of social, environmental and financial well being? Check out the visualization here to see how different cities compare.\n",
        "\n",
        "How many times did the song “Total Eclipse of the Heart” get streamed during the 2017 solar eclipse? Check out the visualization here, which takes you through time:\n",
        "\n"
      ]
    },
    {
      "cell_type": "markdown",
      "metadata": {
        "id": "49xr4Ca6Hoa5",
        "colab_type": "text"
      },
      "source": [
        "## POPULATIONS AND SAMPLES"
      ]
    },
    {
      "cell_type": "markdown",
      "metadata": {
        "id": "uE0k7bMuHstZ",
        "colab_type": "text"
      },
      "source": [
        "In this part, you’ll spend more time thinking about where data come from. The highest-quality statistical analyses of data will always incorporate information about the process used to generate the data, or features of the data collection design. You’ll be exposed to important concepts related to sampling from larger populations, including probability and non-probability sampling, and how we can make inferences about larger populations based on well-designed samples. You’ll also learn about the concept of a sampling distribution, and how estimation of the variance of that distribution plays a critical role in making statements about populations. Finally, you’ll learn about the importance of reading the documentation for a given data set; a key step in looking at data is also looking at the available documentation for that data set, which describes how the data were generated.\n",
        "\n"
      ]
    },
    {
      "cell_type": "markdown",
      "metadata": {
        "id": "33R0F37hH4O-",
        "colab_type": "text"
      },
      "source": [
        "* Learning Objectives\n",
        "\n",
        "> Distinguish between probablity and non-probability sampling\n",
        "\n",
        "> Describe the concept of a sampling distribution, and how one can make inference about a population parameter based on the estimated features of that distribution\n",
        "\n",
        "> Identify appropriate analytic techniques for probability and non-probability samples\n",
        "\n",
        "> Explain how poorly-designed samples can lead to descriptions of population features that are biased in nature"
      ]
    },
    {
      "cell_type": "markdown",
      "metadata": {
        "id": "6FsK0WScIVVS",
        "colab_type": "text"
      },
      "source": [
        "Additional Deep-Dive Readings and Web Sites on Random Sampling and Sampling Distributions\n",
        "\n",
        "Kish, Leslie. (1965). Survey Sampling. Wiley.\n",
        "\n",
        "Lohr, Sharon. (1999). Sampling: Design and Analysis, Second Edition. Cengage Learning.\n",
        "\n",
        "Statistics How-To - Sampling Distribution: Definition, Types, Examples\n",
        "\n",
        "What is a Sampling Distribution?\n"
      ]
    },
    {
      "cell_type": "markdown",
      "metadata": {
        "id": "nCh-W7nyInBM",
        "colab_type": "text"
      },
      "source": [
        "### Sampleing from well-defined populations"
      ]
    },
    {
      "cell_type": "markdown",
      "metadata": {
        "id": "yRFOQehHI0sP",
        "colab_type": "text"
      },
      "source": [
        ""
      ]
    },
    {
      "cell_type": "markdown",
      "metadata": {
        "id": "XPli37bNI1U0",
        "colab_type": "text"
      },
      "source": [
        "## Target population\n",
        "\n",
        "The target population should be well defined. \n",
        "\n",
        "How can we make inferential statements about it. \n",
        "\n",
        "1. Option 1: Conducting a popuylaton census\n",
        "\n",
        "Easier for small population\n",
        "\n",
        "\n",
        "\n",
        "\n",
        "2. Probalility sampling\n",
        "\n",
        "\n",
        " -  Construct list of all units in population\n",
        "\n",
        " - Determine probabilit of eletion\n",
        "\n",
        " - Select unites from list at random\n",
        "\n",
        " - Attempt to measure randomly selected unit\n",
        "\n",
        "\n",
        "\n",
        "3. Option 3:  Non-probality samples\n",
        "\n",
        "\n",
        "Examples:\n",
        "\n",
        "- opt-in web surveys\n",
        "\n",
        "- quota samples\n",
        "\n",
        "- snowbal samping\n",
        "\n",
        "- convenience sampling\n",
        "\n",
        "\n",
        "\n"
      ]
    },
    {
      "cell_type": "markdown",
      "metadata": {
        "id": "jUzMKWuXKbvy",
        "colab_type": "text"
      },
      "source": [
        ""
      ]
    },
    {
      "cell_type": "code",
      "metadata": {
        "id": "GVU97K2uHp7b",
        "colab_type": "code",
        "colab": {}
      },
      "source": [
        ""
      ],
      "execution_count": 0,
      "outputs": []
    },
    {
      "cell_type": "markdown",
      "metadata": {
        "id": "GZUs4hgcKbMX",
        "colab_type": "text"
      },
      "source": [
        "### Probability Sampling\n",
        "\n",
        "\n",
        "#### Simple Radom Sampling\n",
        "\n"
      ]
    },
    {
      "cell_type": "markdown",
      "metadata": {
        "id": "nLxIAVvgf7Wd",
        "colab_type": "text"
      },
      "source": [
        " # Fitting Statistical Models to Data with Python\n",
        " \n"
      ]
    },
    {
      "cell_type": "markdown",
      "metadata": {
        "id": "VnrPWcX9gce1",
        "colab_type": "text"
      },
      "source": [
        "## Overview\n",
        "\n",
        "You'll be introduced to new statistical concepts. You'll get a chance to learn about that week's concepts through the Python programming language, including tutorials and opportunities for practice through the Jupyter Notebook environment.\n",
        "\n",
        "\n",
        "* Prerequisites\n",
        "\n",
        "This specialization requires a strong background in high school-level algebra, as well as completion of the first two courses in this series, or similar experience in those courses' statistical concepts and Python-level application.\n",
        "\n",
        "\n",
        "* Tips for Success\n",
        "\n",
        " - Brush up on your Python skills\n",
        "\n",
        " - To follow along with the lectures, download slides from the Course Resources section. These are also great resources on which to take notes, if needed. This course's content contains more advanced topics than the first two courses; make sure to fully complete each element before moving on to the next item in the week's structure.\n",
        "\n",
        " - Display Jupyter Notebooks alongside Python tutorials on your screen to follow along/practice\n",
        "\n",
        " - Utilize the course discussion forums"
      ]
    },
    {
      "cell_type": "markdown",
      "metadata": {
        "id": "TS-meP1ghRUu",
        "colab_type": "text"
      },
      "source": [
        "### Dataset \n",
        "\n",
        "* __National Health and Nutrition Examination Survey (NHANES)__\n",
        "\n",
        "The National Health and Nutrition Examination Survey (NHANES) is a program of studies designed to assess the health and nutritional status of adults and children in the United States. The survey is unique in that it combines interviews and physical examinations.\n",
        "\n",
        "For two-year cycles (e.g., 2015-2016), cross-sectional national samples of individuals living in the United States are invited to participate in both aspects of the data collection. The data produced are widely considered by the research community as among the most important scientific indicators of the health and well-being of the U.S. population.\n",
        "\n",
        "For this specialization, we will be analyzing data collected from a national sample of individuals during the 2015-2016 cycle.\n",
        "\n",
        "* __The Cartwheel Dataset__\n",
        "\n",
        "A simpler and smaller set of data, the Cartwheel Dataset was collected by our very own course team at the University of Michigan. It includes the following information: age, gender, glasses-wearing or not, height, weight, wingspan (arm length), completion, cartwheel distance, and overall cartwheel score.\n",
        "\n",
        "* __Boston Housing Dataset__\n",
        "\n",
        "\n",
        "The Boston Housing dataset, shown within several of the Python tutorials, is a pre-loaded dataset from within the Scikit-learn package, and includes quite a few variables based on housing in Boston: per capita crime rate by town, average number of rooms, property tax rate, pupil-teacher ratio, etc.\n",
        "\n",
        "* __Autism Dataset__\n",
        "\n",
        "A longitudinal study conducted on children with autism forms the basis for Week 3's first case study notebook.\n",
        "\n",
        "Anderson, D., Oti, R., Lord, C., and Welch, K. (2009). Patterns of growth in adaptive social abilities among children with autism spectrum disorders. Journal of Abnormal Child Psychology, 37(7), 1019-1034.\n",
        "\n",
        "* __Mother Education & Children Test Score Dataset__\n",
        "\n",
        "This dataset on a mother's education compared to children's test scores is provided as a part of rstanarm, a package in R, and can be found in Data Analysis Using Regression and Multilevel/Hierarchical Models by Andrew Gelman and Jennifer Hill (2007).\n",
        "\n",
        "* __European Social Survey Dataset__\n",
        "\n",
        "The European Social Survey (ESS) is a biennial cross-national survey of attitudes and behaviour established in 2001. The ESS uses cross-sectional, probability samples which are representative of all persons aged 15 and over resident within private households in each country."
      ]
    }
  ]
}