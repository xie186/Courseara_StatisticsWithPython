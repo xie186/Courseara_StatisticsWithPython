{
  "nbformat": 4,
  "nbformat_minor": 0,
  "metadata": {
    "colab": {
      "name": "StatisticsWithPython_CourseraCourse.ipynb",
      "version": "0.3.2",
      "provenance": [],
      "include_colab_link": true
    },
    "kernelspec": {
      "name": "python3",
      "display_name": "Python 3"
    }
  },
  "cells": [
    {
      "cell_type": "markdown",
      "metadata": {
        "id": "view-in-github",
        "colab_type": "text"
      },
      "source": [
        "<a href=\"https://colab.research.google.com/github/xie186/Courseara_StatisticsWithPython/blob/master/StatisticsWithPython_CourseraCourse.ipynb\" target=\"_parent\"><img src=\"https://colab.research.google.com/assets/colab-badge.svg\" alt=\"Open In Colab\"/></a>"
      ]
    },
    {
      "metadata": {
        "id": "C9ta-qWH3vnX",
        "colab_type": "text"
      },
      "cell_type": "markdown",
      "source": [
        "# Understanding and Visualizing Data with Python"
      ]
    },
    {
      "metadata": {
        "id": "109CZcKJ33Q8",
        "colab_type": "text"
      },
      "cell_type": "markdown",
      "source": [
        "## Week2 - UNIVARIATE DATA"
      ]
    },
    {
      "metadata": {
        "id": "RkHkcU2p37T7",
        "colab_type": "text"
      },
      "cell_type": "markdown",
      "source": [
        "### Quantititave data\n",
        "\n",
        "\n",
        "* What are quantitiative variables\n",
        "\n",
        "\n",
        "Variables that have a numerical value (quantity) thant we can perform mathematical operations on. \n",
        "\n",
        "__Examples__: Height, weight, income, test scores, shoes size, number of \"heads\" after 10 coin flips"
      ]
    },
    {
      "metadata": {
        "id": "6sfLwiaC4h3b",
        "colab_type": "text"
      },
      "cell_type": "markdown",
      "source": [
        "## Week3 - MULTIVARIATE DATA"
      ]
    },
    {
      "metadata": {
        "id": "bRlOmXK849v0",
        "colab_type": "code",
        "colab": {}
      },
      "cell_type": "code",
      "source": [
        ""
      ],
      "execution_count": 0,
      "outputs": []
    },
    {
      "metadata": {
        "id": "KimyIYTh4qK6",
        "colab_type": "text"
      },
      "cell_type": "markdown",
      "source": [
        "In the third week of this course on looking at data, we’ll introduce key ideas for examining research questions that require looking at more than one variable. In particular, we will consider both numerically and visually how different variables interact, how summaries can appear deceiving if you don’t properly account for interactions, and differences between quantitative and categorical variables. This week’s assignment will consist of a writing assignment along with reviewing those of your peers.\n",
        "\n"
      ]
    }
  ]
}