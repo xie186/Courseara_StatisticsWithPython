{
  "nbformat": 4,
  "nbformat_minor": 0,
  "metadata": {
    "colab": {
      "name": "StatisticsWithPython_CourseraCourse.ipynb",
      "version": "0.3.2",
      "provenance": [],
      "toc_visible": true,
      "include_colab_link": true
    },
    "kernelspec": {
      "name": "python3",
      "display_name": "Python 3"
    }
  },
  "cells": [
    {
      "cell_type": "markdown",
      "metadata": {
        "id": "view-in-github",
        "colab_type": "text"
      },
      "source": [
        "<a href=\"https://colab.research.google.com/github/xie186/Courseara_StatisticsWithPython/blob/master/StatisticsWithPython_CourseraCourse.ipynb\" target=\"_parent\"><img src=\"https://colab.research.google.com/assets/colab-badge.svg\" alt=\"Open In Colab\"/></a>"
      ]
    },
    {
      "metadata": {
        "id": "C9ta-qWH3vnX",
        "colab_type": "text"
      },
      "cell_type": "markdown",
      "source": [
        "# Understanding and Visualizing Data with Python"
      ]
    },
    {
      "metadata": {
        "id": "109CZcKJ33Q8",
        "colab_type": "text"
      },
      "cell_type": "markdown",
      "source": [
        "## Week2 - UNIVARIATE DATA"
      ]
    },
    {
      "metadata": {
        "id": "M9YFQ3o656eb",
        "colab_type": "text"
      },
      "cell_type": "markdown",
      "source": [
        "### Quantitative data: Histograms"
      ]
    },
    {
      "metadata": {
        "id": "RkHkcU2p37T7",
        "colab_type": "text"
      },
      "cell_type": "markdown",
      "source": [
        "#### Quantititave data\n",
        "\n",
        "\n",
        "* What are quantitiative variables\n",
        "\n",
        "\n",
        "Variables that have a numerical value (quantity) thant we can perform mathematical operations on. \n",
        "\n",
        "__Examples__: \n",
        "\n",
        "* Continuous values: Height, weight, income, test scores, shoes size, \n",
        "\n",
        "* Discrete: number of \"heads\" after 10 coin flips\n",
        "\n",
        "![](https://user-images.githubusercontent.com/20909751/56850116-e91aac80-68cb-11e9-9ea0-ea1612b9f5fd.png)"
      ]
    },
    {
      "metadata": {
        "id": "1-rMGHoI6U7J",
        "colab_type": "text"
      },
      "cell_type": "markdown",
      "source": [
        "### Four main aspects of Histogram\n",
        "\n",
        "* __Shape__: Overall appearance of historgram\n",
        "\n",
        "* __Center__: Mean or Median\n",
        "\n",
        "* __Spead__: How far our data speads. Range, Interquartile Range (IQR), standard deviation, variance.\n",
        "\n",
        "\n",
        "* __Ourliers__: Data points that fall far from the bulk of the data\n"
      ]
    },
    {
      "metadata": {
        "id": "k3XYJdLoERvv",
        "colab_type": "text"
      },
      "cell_type": "markdown",
      "source": [
        ""
      ]
    },
    {
      "metadata": {
        "id": "XswbRwXLESYm",
        "colab_type": "code",
        "colab": {}
      },
      "cell_type": "code",
      "source": [
        ""
      ],
      "execution_count": 0,
      "outputs": []
    },
    {
      "metadata": {
        "id": "ioT1bBd4FeRs",
        "colab_type": "code",
        "colab": {}
      },
      "cell_type": "code",
      "source": [
        "\n"
      ],
      "execution_count": 0,
      "outputs": []
    },
    {
      "metadata": {
        "id": "6sfLwiaC4h3b",
        "colab_type": "text"
      },
      "cell_type": "markdown",
      "source": [
        "## Week3 - MULTIVARIATE DATA"
      ]
    },
    {
      "metadata": {
        "id": "bRlOmXK849v0",
        "colab_type": "code",
        "colab": {}
      },
      "cell_type": "code",
      "source": [
        ""
      ],
      "execution_count": 0,
      "outputs": []
    },
    {
      "metadata": {
        "id": "KimyIYTh4qK6",
        "colab_type": "text"
      },
      "cell_type": "markdown",
      "source": [
        "In the third week of this course on looking at data, we’ll introduce key ideas for examining research questions that require looking at more than one variable. In particular, we will consider both numerically and visually how different variables interact, how summaries can appear deceiving if you don’t properly account for interactions, and differences between quantitative and categorical variables. This week’s assignment will consist of a writing assignment along with reviewing those of your peers.\n",
        "\n"
      ]
    },
    {
      "metadata": {
        "id": "GueRXqiYkLyi",
        "colab_type": "text"
      },
      "cell_type": "markdown",
      "source": [
        "### Simpons paradox\n",
        "\n",
        "Simpson's paradox  is a phenomenon in probability and statistics, in which a trend appears in several different groups of data but disappears or reverses when these groups are combined."
      ]
    },
    {
      "metadata": {
        "id": "A7oKCDdikQdk",
        "colab_type": "text"
      },
      "cell_type": "markdown",
      "source": [
        "#### Example: UC Berkeley gender bias\n",
        "\n",
        "One of the best-known examples of Simpson's paradox is a study of gender bias among graduate school admissions to University of California, Berkeley. The admission figures for the fall of 1973 showed that men applying were more likely than women to be admitted, and the difference was so large that it was unlikely to be due to chance.\n"
      ]
    },
    {
      "metadata": {
        "id": "AD7fEpFokSpe",
        "colab_type": "code",
        "colab": {
          "base_uri": "https://localhost:8080/",
          "height": 785
        },
        "outputId": "4f253a4e-e05a-4eb3-9449-d4bce8408fd6"
      },
      "cell_type": "code",
      "source": [
        "import pandas as pd\n",
        "file = 'https://raw.githubusercontent.com/xie186/Courseara_StatisticsWithPython/master/data/UCBGradAdmData1973.csv'\n",
        "df = pd.DataFrame(pd.read_csv(file))\n",
        "df"
      ],
      "execution_count": 22,
      "outputs": [
        {
          "output_type": "execute_result",
          "data": {
            "text/html": [
              "<div>\n",
              "<style scoped>\n",
              "    .dataframe tbody tr th:only-of-type {\n",
              "        vertical-align: middle;\n",
              "    }\n",
              "\n",
              "    .dataframe tbody tr th {\n",
              "        vertical-align: top;\n",
              "    }\n",
              "\n",
              "    .dataframe thead th {\n",
              "        text-align: right;\n",
              "    }\n",
              "</style>\n",
              "<table border=\"1\" class=\"dataframe\">\n",
              "  <thead>\n",
              "    <tr style=\"text-align: right;\">\n",
              "      <th></th>\n",
              "      <th>Admit</th>\n",
              "      <th>Gender</th>\n",
              "      <th>Dept</th>\n",
              "      <th>Freq</th>\n",
              "    </tr>\n",
              "  </thead>\n",
              "  <tbody>\n",
              "    <tr>\n",
              "      <th>0</th>\n",
              "      <td>Admitted</td>\n",
              "      <td>Male</td>\n",
              "      <td>A</td>\n",
              "      <td>512</td>\n",
              "    </tr>\n",
              "    <tr>\n",
              "      <th>1</th>\n",
              "      <td>Rejected</td>\n",
              "      <td>Male</td>\n",
              "      <td>A</td>\n",
              "      <td>313</td>\n",
              "    </tr>\n",
              "    <tr>\n",
              "      <th>2</th>\n",
              "      <td>Admitted</td>\n",
              "      <td>Female</td>\n",
              "      <td>A</td>\n",
              "      <td>89</td>\n",
              "    </tr>\n",
              "    <tr>\n",
              "      <th>3</th>\n",
              "      <td>Rejected</td>\n",
              "      <td>Female</td>\n",
              "      <td>A</td>\n",
              "      <td>19</td>\n",
              "    </tr>\n",
              "    <tr>\n",
              "      <th>4</th>\n",
              "      <td>Admitted</td>\n",
              "      <td>Male</td>\n",
              "      <td>B</td>\n",
              "      <td>353</td>\n",
              "    </tr>\n",
              "    <tr>\n",
              "      <th>5</th>\n",
              "      <td>Rejected</td>\n",
              "      <td>Male</td>\n",
              "      <td>B</td>\n",
              "      <td>207</td>\n",
              "    </tr>\n",
              "    <tr>\n",
              "      <th>6</th>\n",
              "      <td>Admitted</td>\n",
              "      <td>Female</td>\n",
              "      <td>B</td>\n",
              "      <td>17</td>\n",
              "    </tr>\n",
              "    <tr>\n",
              "      <th>7</th>\n",
              "      <td>Rejected</td>\n",
              "      <td>Female</td>\n",
              "      <td>B</td>\n",
              "      <td>8</td>\n",
              "    </tr>\n",
              "    <tr>\n",
              "      <th>8</th>\n",
              "      <td>Admitted</td>\n",
              "      <td>Male</td>\n",
              "      <td>C</td>\n",
              "      <td>120</td>\n",
              "    </tr>\n",
              "    <tr>\n",
              "      <th>9</th>\n",
              "      <td>Rejected</td>\n",
              "      <td>Male</td>\n",
              "      <td>C</td>\n",
              "      <td>205</td>\n",
              "    </tr>\n",
              "    <tr>\n",
              "      <th>10</th>\n",
              "      <td>Admitted</td>\n",
              "      <td>Female</td>\n",
              "      <td>C</td>\n",
              "      <td>202</td>\n",
              "    </tr>\n",
              "    <tr>\n",
              "      <th>11</th>\n",
              "      <td>Rejected</td>\n",
              "      <td>Female</td>\n",
              "      <td>C</td>\n",
              "      <td>391</td>\n",
              "    </tr>\n",
              "    <tr>\n",
              "      <th>12</th>\n",
              "      <td>Admitted</td>\n",
              "      <td>Male</td>\n",
              "      <td>D</td>\n",
              "      <td>138</td>\n",
              "    </tr>\n",
              "    <tr>\n",
              "      <th>13</th>\n",
              "      <td>Rejected</td>\n",
              "      <td>Male</td>\n",
              "      <td>D</td>\n",
              "      <td>279</td>\n",
              "    </tr>\n",
              "    <tr>\n",
              "      <th>14</th>\n",
              "      <td>Admitted</td>\n",
              "      <td>Female</td>\n",
              "      <td>D</td>\n",
              "      <td>131</td>\n",
              "    </tr>\n",
              "    <tr>\n",
              "      <th>15</th>\n",
              "      <td>Rejected</td>\n",
              "      <td>Female</td>\n",
              "      <td>D</td>\n",
              "      <td>244</td>\n",
              "    </tr>\n",
              "    <tr>\n",
              "      <th>16</th>\n",
              "      <td>Admitted</td>\n",
              "      <td>Male</td>\n",
              "      <td>E</td>\n",
              "      <td>53</td>\n",
              "    </tr>\n",
              "    <tr>\n",
              "      <th>17</th>\n",
              "      <td>Rejected</td>\n",
              "      <td>Male</td>\n",
              "      <td>E</td>\n",
              "      <td>138</td>\n",
              "    </tr>\n",
              "    <tr>\n",
              "      <th>18</th>\n",
              "      <td>Admitted</td>\n",
              "      <td>Female</td>\n",
              "      <td>E</td>\n",
              "      <td>94</td>\n",
              "    </tr>\n",
              "    <tr>\n",
              "      <th>19</th>\n",
              "      <td>Rejected</td>\n",
              "      <td>Female</td>\n",
              "      <td>E</td>\n",
              "      <td>299</td>\n",
              "    </tr>\n",
              "    <tr>\n",
              "      <th>20</th>\n",
              "      <td>Admitted</td>\n",
              "      <td>Male</td>\n",
              "      <td>F</td>\n",
              "      <td>22</td>\n",
              "    </tr>\n",
              "    <tr>\n",
              "      <th>21</th>\n",
              "      <td>Rejected</td>\n",
              "      <td>Male</td>\n",
              "      <td>F</td>\n",
              "      <td>351</td>\n",
              "    </tr>\n",
              "    <tr>\n",
              "      <th>22</th>\n",
              "      <td>Admitted</td>\n",
              "      <td>Female</td>\n",
              "      <td>F</td>\n",
              "      <td>24</td>\n",
              "    </tr>\n",
              "    <tr>\n",
              "      <th>23</th>\n",
              "      <td>Rejected</td>\n",
              "      <td>Female</td>\n",
              "      <td>F</td>\n",
              "      <td>317</td>\n",
              "    </tr>\n",
              "  </tbody>\n",
              "</table>\n",
              "</div>"
            ],
            "text/plain": [
              "       Admit  Gender Dept  Freq\n",
              "0   Admitted    Male    A   512\n",
              "1   Rejected    Male    A   313\n",
              "2   Admitted  Female    A    89\n",
              "3   Rejected  Female    A    19\n",
              "4   Admitted    Male    B   353\n",
              "5   Rejected    Male    B   207\n",
              "6   Admitted  Female    B    17\n",
              "7   Rejected  Female    B     8\n",
              "8   Admitted    Male    C   120\n",
              "9   Rejected    Male    C   205\n",
              "10  Admitted  Female    C   202\n",
              "11  Rejected  Female    C   391\n",
              "12  Admitted    Male    D   138\n",
              "13  Rejected    Male    D   279\n",
              "14  Admitted  Female    D   131\n",
              "15  Rejected  Female    D   244\n",
              "16  Admitted    Male    E    53\n",
              "17  Rejected    Male    E   138\n",
              "18  Admitted  Female    E    94\n",
              "19  Rejected  Female    E   299\n",
              "20  Admitted    Male    F    22\n",
              "21  Rejected    Male    F   351\n",
              "22  Admitted  Female    F    24\n",
              "23  Rejected  Female    F   317"
            ]
          },
          "metadata": {
            "tags": []
          },
          "execution_count": 22
        }
      ]
    },
    {
      "metadata": {
        "id": "ixC8Ao8Hq_R6",
        "colab_type": "text"
      },
      "cell_type": "markdown",
      "source": [
        "##### Gender bias \n",
        "\n",
        "The admission figures for the fall of 1973 showed that men applying were more likely than women to be admitted, and the difference was so large that it was unlikely to be due to chance."
      ]
    },
    {
      "metadata": {
        "id": "zClY4NOJq-xg",
        "colab_type": "code",
        "colab": {
          "base_uri": "https://localhost:8080/",
          "height": 141
        },
        "outputId": "430aa6a6-70c4-4fb5-97f5-ff8f0584bc07"
      },
      "cell_type": "code",
      "source": [
        "import numpy as sum\n",
        "df_sum = pd.pivot_table(df, values=\"Freq\", index=[\"Gender\"], \n",
        "                          columns=[\"Admit\"], aggfunc=np.sum)\n",
        "\n",
        "df_sum[\"%\"] = 100*df_sum[\"Admitted\"] / (df_sum[\"Admitted\"] + df_sum[\"Rejected\"])\n",
        "df_sum"
      ],
      "execution_count": 49,
      "outputs": [
        {
          "output_type": "execute_result",
          "data": {
            "text/html": [
              "<div>\n",
              "<style scoped>\n",
              "    .dataframe tbody tr th:only-of-type {\n",
              "        vertical-align: middle;\n",
              "    }\n",
              "\n",
              "    .dataframe tbody tr th {\n",
              "        vertical-align: top;\n",
              "    }\n",
              "\n",
              "    .dataframe thead th {\n",
              "        text-align: right;\n",
              "    }\n",
              "</style>\n",
              "<table border=\"1\" class=\"dataframe\">\n",
              "  <thead>\n",
              "    <tr style=\"text-align: right;\">\n",
              "      <th>Admit</th>\n",
              "      <th>Admitted</th>\n",
              "      <th>Rejected</th>\n",
              "      <th>%</th>\n",
              "    </tr>\n",
              "    <tr>\n",
              "      <th>Gender</th>\n",
              "      <th></th>\n",
              "      <th></th>\n",
              "      <th></th>\n",
              "    </tr>\n",
              "  </thead>\n",
              "  <tbody>\n",
              "    <tr>\n",
              "      <th>Female</th>\n",
              "      <td>557</td>\n",
              "      <td>1278</td>\n",
              "      <td>30.354223</td>\n",
              "    </tr>\n",
              "    <tr>\n",
              "      <th>Male</th>\n",
              "      <td>1198</td>\n",
              "      <td>1493</td>\n",
              "      <td>44.518766</td>\n",
              "    </tr>\n",
              "  </tbody>\n",
              "</table>\n",
              "</div>"
            ],
            "text/plain": [
              "Admit   Admitted  Rejected          %\n",
              "Gender                               \n",
              "Female       557      1278  30.354223\n",
              "Male        1198      1493  44.518766"
            ]
          },
          "metadata": {
            "tags": []
          },
          "execution_count": 49
        }
      ]
    },
    {
      "metadata": {
        "id": "hAV_OVyHsjAy",
        "colab_type": "code",
        "colab": {
          "base_uri": "https://localhost:8080/",
          "height": 327
        },
        "outputId": "e1e6eb65-6f26-4cb7-8d71-14ce1b94f6d0"
      },
      "cell_type": "code",
      "source": [
        "df_sum[\"%\"].plot(kind=\"bar\", y=\"%\")"
      ],
      "execution_count": 55,
      "outputs": [
        {
          "output_type": "execute_result",
          "data": {
            "text/plain": [
              "<matplotlib.axes._subplots.AxesSubplot at 0x7fb7bdcb05c0>"
            ]
          },
          "metadata": {
            "tags": []
          },
          "execution_count": 55
        },
        {
          "output_type": "display_data",
          "data": {
            "image/png": "[encoded data removed]",
            "text/plain": [
              "<Figure size 432x288 with 1 Axes>"
            ]
          },
          "metadata": {
            "tags": []
          }
        }
      ]
    },
    {
      "metadata": {
        "id": "WVnoG4KvsCNr",
        "colab_type": "text"
      },
      "cell_type": "markdown",
      "source": [
        "##### Department level summary\n",
        "\n",
        "When examining the individual departments, it appeared that six out of 85 departments were significantly biased against men, whereas only four were significantly biased against women. In fact, the pooled and corrected data showed a \"small but statistically significant bias in favor of women\".[15] The data from the six largest departments are listed below, the top two departments by number of applicants for each gender italicised."
      ]
    },
    {
      "metadata": {
        "id": "0V-TSz2Lm-XC",
        "colab_type": "code",
        "colab": {
          "base_uri": "https://localhost:8080/",
          "height": 294
        },
        "outputId": "c7e8964c-65d4-4dbc-d8f4-83a84e78797c"
      },
      "cell_type": "code",
      "source": [
        "df_pivot = df.pivot_table(values=\"Freq\", index=[\"Dept\"], \n",
        "                          columns=[\"Gender\", \"Admit\"])\n",
        "\n",
        "df_pivot[\"%(Female)\"] = 100*df_pivot[\"Female\"][\"Admitted\"]/(df_pivot[\"Female\"][\"Rejected\"] + df_pivot[\"Female\"][\"Admitted\"])\n",
        "df_pivot[\"%(Male)\"] = 100*df_pivot[\"Male\"][\"Admitted\"]/(df_pivot[\"Male\"][\"Rejected\"] + df_pivot[\"Male\"][\"Admitted\"])\n",
        "df_pivot\n"
      ],
      "execution_count": 50,
      "outputs": [
        {
          "output_type": "execute_result",
          "data": {
            "text/html": [
              "<div>\n",
              "<style scoped>\n",
              "    .dataframe tbody tr th:only-of-type {\n",
              "        vertical-align: middle;\n",
              "    }\n",
              "\n",
              "    .dataframe tbody tr th {\n",
              "        vertical-align: top;\n",
              "    }\n",
              "\n",
              "    .dataframe thead tr th {\n",
              "        text-align: left;\n",
              "    }\n",
              "\n",
              "    .dataframe thead tr:last-of-type th {\n",
              "        text-align: right;\n",
              "    }\n",
              "</style>\n",
              "<table border=\"1\" class=\"dataframe\">\n",
              "  <thead>\n",
              "    <tr>\n",
              "      <th>Gender</th>\n",
              "      <th colspan=\"2\" halign=\"left\">Female</th>\n",
              "      <th colspan=\"2\" halign=\"left\">Male</th>\n",
              "      <th>%(Female)</th>\n",
              "      <th>%(Male)</th>\n",
              "    </tr>\n",
              "    <tr>\n",
              "      <th>Admit</th>\n",
              "      <th>Admitted</th>\n",
              "      <th>Rejected</th>\n",
              "      <th>Admitted</th>\n",
              "      <th>Rejected</th>\n",
              "      <th></th>\n",
              "      <th></th>\n",
              "    </tr>\n",
              "    <tr>\n",
              "      <th>Dept</th>\n",
              "      <th></th>\n",
              "      <th></th>\n",
              "      <th></th>\n",
              "      <th></th>\n",
              "      <th></th>\n",
              "      <th></th>\n",
              "    </tr>\n",
              "  </thead>\n",
              "  <tbody>\n",
              "    <tr>\n",
              "      <th>A</th>\n",
              "      <td>89</td>\n",
              "      <td>19</td>\n",
              "      <td>512</td>\n",
              "      <td>313</td>\n",
              "      <td>82.407407</td>\n",
              "      <td>62.060606</td>\n",
              "    </tr>\n",
              "    <tr>\n",
              "      <th>B</th>\n",
              "      <td>17</td>\n",
              "      <td>8</td>\n",
              "      <td>353</td>\n",
              "      <td>207</td>\n",
              "      <td>68.000000</td>\n",
              "      <td>63.035714</td>\n",
              "    </tr>\n",
              "    <tr>\n",
              "      <th>C</th>\n",
              "      <td>202</td>\n",
              "      <td>391</td>\n",
              "      <td>120</td>\n",
              "      <td>205</td>\n",
              "      <td>34.064081</td>\n",
              "      <td>36.923077</td>\n",
              "    </tr>\n",
              "    <tr>\n",
              "      <th>D</th>\n",
              "      <td>131</td>\n",
              "      <td>244</td>\n",
              "      <td>138</td>\n",
              "      <td>279</td>\n",
              "      <td>34.933333</td>\n",
              "      <td>33.093525</td>\n",
              "    </tr>\n",
              "    <tr>\n",
              "      <th>E</th>\n",
              "      <td>94</td>\n",
              "      <td>299</td>\n",
              "      <td>53</td>\n",
              "      <td>138</td>\n",
              "      <td>23.918575</td>\n",
              "      <td>27.748691</td>\n",
              "    </tr>\n",
              "    <tr>\n",
              "      <th>F</th>\n",
              "      <td>24</td>\n",
              "      <td>317</td>\n",
              "      <td>22</td>\n",
              "      <td>351</td>\n",
              "      <td>7.038123</td>\n",
              "      <td>5.898123</td>\n",
              "    </tr>\n",
              "  </tbody>\n",
              "</table>\n",
              "</div>"
            ],
            "text/plain": [
              "Gender   Female              Male           %(Female)    %(Male)\n",
              "Admit  Admitted Rejected Admitted Rejected                      \n",
              "Dept                                                            \n",
              "A            89       19      512      313  82.407407  62.060606\n",
              "B            17        8      353      207  68.000000  63.035714\n",
              "C           202      391      120      205  34.064081  36.923077\n",
              "D           131      244      138      279  34.933333  33.093525\n",
              "E            94      299       53      138  23.918575  27.748691\n",
              "F            24      317       22      351   7.038123   5.898123"
            ]
          },
          "metadata": {
            "tags": []
          },
          "execution_count": 50
        }
      ]
    },
    {
      "metadata": {
        "id": "H9Co9UuYtn4K",
        "colab_type": "code",
        "colab": {
          "base_uri": "https://localhost:8080/",
          "height": 388
        },
        "outputId": "ca36bd0f-61cb-49a7-d51a-600cf16b7b5a"
      },
      "cell_type": "code",
      "source": [
        "df_perc = df_pivot[[\"%(Female)\",\t\"%(Male)\"]]\n",
        "print(df_perc.columns)\n",
        "df_perc.columns = ['%(Female)', '%(Male)']\n",
        "print(df_perc.columns)\n",
        "df_perc\n",
        "df_perc.plot(kind=\"bar\")"
      ],
      "execution_count": 77,
      "outputs": [
        {
          "output_type": "stream",
          "text": [
            "MultiIndex(levels=[['Female', 'Male', '%(Female)', '%(Male)'], ['Admitted', 'Rejected', '']],\n",
            "           codes=[[2, 3], [2, 2]],\n",
            "           names=['Gender', 'Admit'])\n",
            "Index(['%(Female)', '%(Male)'], dtype='object')\n"
          ],
          "name": "stdout"
        },
        {
          "output_type": "execute_result",
          "data": {
            "text/plain": [
              "<matplotlib.axes._subplots.AxesSubplot at 0x7fb7bda3bc18>"
            ]
          },
          "metadata": {
            "tags": []
          },
          "execution_count": 77
        },
        {
          "output_type": "display_data",
          "data": {
            "image/png": "[encoded data removed]",
            "text/plain": [
              "<Figure size 432x288 with 1 Axes>"
            ]
          },
          "metadata": {
            "tags": []
          }
        }
      ]
    },
    {
      "metadata": {
        "id": "que18vmPsRNP",
        "colab_type": "text"
      },
      "cell_type": "markdown",
      "source": [
        "The research paper by Bickel et al. concluded that __women tended to apply to competitive departments with low rates of admission even among qualified applicants__ (such as in the English Department), whereas __men__ tended to apply to __less-competitive departments__ with high rates of admission among the qualified applicants (such as in engineering and chemistry)."
      ]
    },
    {
      "metadata": {
        "id": "mZtWGZ0NqJj6",
        "colab_type": "code",
        "colab": {
          "base_uri": "https://localhost:8080/",
          "height": 294
        },
        "outputId": "39c5294a-c892-4cfb-9348-49d9d235311f"
      },
      "cell_type": "code",
      "source": [
        ""
      ],
      "execution_count": 44,
      "outputs": [
        {
          "output_type": "execute_result",
          "data": {
            "text/html": [
              "<div>\n",
              "<style scoped>\n",
              "    .dataframe tbody tr th:only-of-type {\n",
              "        vertical-align: middle;\n",
              "    }\n",
              "\n",
              "    .dataframe tbody tr th {\n",
              "        vertical-align: top;\n",
              "    }\n",
              "\n",
              "    .dataframe thead tr th {\n",
              "        text-align: left;\n",
              "    }\n",
              "\n",
              "    .dataframe thead tr:last-of-type th {\n",
              "        text-align: right;\n",
              "    }\n",
              "</style>\n",
              "<table border=\"1\" class=\"dataframe\">\n",
              "  <thead>\n",
              "    <tr>\n",
              "      <th>Gender</th>\n",
              "      <th colspan=\"2\" halign=\"left\">Female</th>\n",
              "      <th colspan=\"2\" halign=\"left\">Male</th>\n",
              "      <th>%(Female)</th>\n",
              "      <th>%(Male)</th>\n",
              "    </tr>\n",
              "    <tr>\n",
              "      <th>Admit</th>\n",
              "      <th>Admitted</th>\n",
              "      <th>Rejected</th>\n",
              "      <th>Admitted</th>\n",
              "      <th>Rejected</th>\n",
              "      <th></th>\n",
              "      <th></th>\n",
              "    </tr>\n",
              "    <tr>\n",
              "      <th>Dept</th>\n",
              "      <th></th>\n",
              "      <th></th>\n",
              "      <th></th>\n",
              "      <th></th>\n",
              "      <th></th>\n",
              "      <th></th>\n",
              "    </tr>\n",
              "  </thead>\n",
              "  <tbody>\n",
              "    <tr>\n",
              "      <th>A</th>\n",
              "      <td>89</td>\n",
              "      <td>19</td>\n",
              "      <td>512</td>\n",
              "      <td>313</td>\n",
              "      <td>82.407407</td>\n",
              "      <td>62.060606</td>\n",
              "    </tr>\n",
              "    <tr>\n",
              "      <th>B</th>\n",
              "      <td>17</td>\n",
              "      <td>8</td>\n",
              "      <td>353</td>\n",
              "      <td>207</td>\n",
              "      <td>68.000000</td>\n",
              "      <td>63.035714</td>\n",
              "    </tr>\n",
              "    <tr>\n",
              "      <th>C</th>\n",
              "      <td>202</td>\n",
              "      <td>391</td>\n",
              "      <td>120</td>\n",
              "      <td>205</td>\n",
              "      <td>34.064081</td>\n",
              "      <td>36.923077</td>\n",
              "    </tr>\n",
              "    <tr>\n",
              "      <th>D</th>\n",
              "      <td>131</td>\n",
              "      <td>244</td>\n",
              "      <td>138</td>\n",
              "      <td>279</td>\n",
              "      <td>34.933333</td>\n",
              "      <td>33.093525</td>\n",
              "    </tr>\n",
              "    <tr>\n",
              "      <th>E</th>\n",
              "      <td>94</td>\n",
              "      <td>299</td>\n",
              "      <td>53</td>\n",
              "      <td>138</td>\n",
              "      <td>23.918575</td>\n",
              "      <td>27.748691</td>\n",
              "    </tr>\n",
              "    <tr>\n",
              "      <th>F</th>\n",
              "      <td>24</td>\n",
              "      <td>317</td>\n",
              "      <td>22</td>\n",
              "      <td>351</td>\n",
              "      <td>7.038123</td>\n",
              "      <td>5.898123</td>\n",
              "    </tr>\n",
              "  </tbody>\n",
              "</table>\n",
              "</div>"
            ],
            "text/plain": [
              "Gender   Female              Male           %(Female)    %(Male)\n",
              "Admit  Admitted Rejected Admitted Rejected                      \n",
              "Dept                                                            \n",
              "A            89       19      512      313  82.407407  62.060606\n",
              "B            17        8      353      207  68.000000  63.035714\n",
              "C           202      391      120      205  34.064081  36.923077\n",
              "D           131      244      138      279  34.933333  33.093525\n",
              "E            94      299       53      138  23.918575  27.748691\n",
              "F            24      317       22      351   7.038123   5.898123"
            ]
          },
          "metadata": {
            "tags": []
          },
          "execution_count": 44
        }
      ]
    },
    {
      "metadata": {
        "id": "FChtp4RYlb1g",
        "colab_type": "code",
        "colab": {
          "base_uri": "https://localhost:8080/",
          "height": 197
        },
        "outputId": "e13a69a8-da22-466a-f160-dff5a0430050"
      },
      "cell_type": "code",
      "source": [
        "import numpy as np\n",
        "df = pd.DataFrame([[1, 2, 3],\n",
        "                    [4, 5, 6],\n",
        "                   [7, 8, 9],\n",
        "                    [np.nan, np.nan, np.nan]],\n",
        "                   columns=['A', 'B', 'C'])\n",
        "print(df)\n",
        "df.agg(['sum', 'min'])\n"
      ],
      "execution_count": 12,
      "outputs": [
        {
          "output_type": "stream",
          "text": [
            "     A    B    C\n",
            "0  1.0  2.0  3.0\n",
            "1  4.0  5.0  6.0\n",
            "2  7.0  8.0  9.0\n",
            "3  NaN  NaN  NaN\n"
          ],
          "name": "stdout"
        },
        {
          "output_type": "execute_result",
          "data": {
            "text/html": [
              "<div>\n",
              "<style scoped>\n",
              "    .dataframe tbody tr th:only-of-type {\n",
              "        vertical-align: middle;\n",
              "    }\n",
              "\n",
              "    .dataframe tbody tr th {\n",
              "        vertical-align: top;\n",
              "    }\n",
              "\n",
              "    .dataframe thead th {\n",
              "        text-align: right;\n",
              "    }\n",
              "</style>\n",
              "<table border=\"1\" class=\"dataframe\">\n",
              "  <thead>\n",
              "    <tr style=\"text-align: right;\">\n",
              "      <th></th>\n",
              "      <th>A</th>\n",
              "      <th>B</th>\n",
              "      <th>C</th>\n",
              "    </tr>\n",
              "  </thead>\n",
              "  <tbody>\n",
              "    <tr>\n",
              "      <th>sum</th>\n",
              "      <td>12.0</td>\n",
              "      <td>15.0</td>\n",
              "      <td>18.0</td>\n",
              "    </tr>\n",
              "    <tr>\n",
              "      <th>min</th>\n",
              "      <td>1.0</td>\n",
              "      <td>2.0</td>\n",
              "      <td>3.0</td>\n",
              "    </tr>\n",
              "  </tbody>\n",
              "</table>\n",
              "</div>"
            ],
            "text/plain": [
              "        A     B     C\n",
              "sum  12.0  15.0  18.0\n",
              "min   1.0   2.0   3.0"
            ]
          },
          "metadata": {
            "tags": []
          },
          "execution_count": 12
        }
      ]
    },
    {
      "metadata": {
        "id": "_l-eVwjOkunR",
        "colab_type": "code",
        "colab": {
          "base_uri": "https://localhost:8080/",
          "height": 55
        },
        "outputId": "484752fc-223b-4107-8fbd-a3a944b5adad"
      },
      "cell_type": "code",
      "source": [
        "totals_dict = {}\n",
        "totals_dict['Males'] = 0\n",
        "totals_dict['Females'] = 0\n",
        "for Gender, Freq in zip(df['Gender'], df['Freq']):\n",
        "    if Gender =='Male':\n",
        "        totals_dict['Males'] += Freq\n",
        "    elif Gender == 'Female':\n",
        "        totals_dict['Females'] += Freq\n",
        "print(\"The total applicant numbers for each gender are {}.\".format(totals_dict))\n",
        "\n"
      ],
      "execution_count": 5,
      "outputs": [
        {
          "output_type": "stream",
          "text": [
            "The total applicant numbers for each gender are {'Males': 2691, 'Females': 1835}.\n"
          ],
          "name": "stdout"
        }
      ]
    }
  ]
}